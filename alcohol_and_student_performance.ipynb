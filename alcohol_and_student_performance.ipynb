import pandas as pd
import matplotlib.pyplot as plt
import seaborn as sns
from sklearn.cluster import KMeans
from sklearn.linear_model import LinearRegression
from sklearn.metrics import silhouette_score
from sklearn.impute import SimpleImputer
# Load dataset from Google Drive
data_url = 'https://drive.google.com/file/d/1emYrOf_zNK2rpiQO4UPPO122m5PqN-1n/view?usp=sharing'
path = 'https://drive.google.com/uc?export=download&id=' + data_url.split('/')[-2]
df = pd.read_csv(path)

# Rename columns for clarity
new_cols = {
    df.columns[1]: "Gender",
    df.columns[2]: "Overall GPA (%)",
    df.columns[3]: "Year",
    df.columns[4]: "Faculty",
    df.columns[5]: "2023 Year GPA (%)",
    df.columns[6]: "Accommodation 2023",
    df.columns[10]: "Socialising, Partying, Drinking",
    df.columns[11]: "Number of Drinks",
    df.columns[12]: "Skipped Classes Because of Alcohol",
    df.columns[13]: "Failed Modules",
    df.columns[14]: "Relationship"
}
df.rename(columns=new_cols, inplace=True)

# Drop irrelevant columns if needed
# df = df.drop(['Column1', 'Column2'], axis=1)
def plot_relational_graph(df):
    plt.figure(figsize=(8, 6))
    sns.scatterplot(x='Overall GPA (%)', y='Number of Drinks', data=df)
    plt.title('Relationship between GPA and Number of Drinks')
    plt.xlabel('Overall GPA (%)')
    plt.ylabel('Number of Drinks')
    plt.show()

def plot_categorical_graph(df):
    plt.figure(figsize=(10, 6))
    sns.barplot(x='Gender', y='Socialising, Partying, Drinking', data=df)
    plt.title('Socializing Behavior by Gender')
    plt.xlabel('Gender')
    plt.ylabel('Socialising, Partying, Drinking')
    plt.show()

def plot_statistical_graph(df):
    # Select relevant numeric columns for correlation analysis
    numeric_cols = ['Overall GPA (%)', '2023 Year GPA (%)', 'Number of Drinks']

    # Convert selected columns to numeric type (ignore errors for non-convertible values)
    for col in numeric_cols:
        df[col] = pd.to_numeric(df[col], errors='coerce')

    # Filter the DataFrame to include only numeric columns (exclude non-convertible values)
    df_numeric = df[numeric_cols].dropna()

    # Compute the correlation matrix
    corr_matrix = df_numeric.corr()

    # Plot the correlation heatmap
    plt.figure(figsize=(10, 8))
    sns.heatmap(corr_matrix, annot=True, cmap='coolwarm', fmt='.2f')
    plt.title('Correlation Heatmap of Academic Performance Metrics')
    plt.show()


def perform_clustering(df, n_clusters=3):
    # Select relevant features for clustering
    features = ['Overall GPA (%)', 'Number of Drinks']

    # Extract features and handle missing values
    X = df[features].copy()
    imputer = SimpleImputer(strategy='mean')
    X_imputed = imputer.fit_transform(X)

    # Perform clustering with KMeans
    kmeans = KMeans(n_clusters=n_clusters, random_state=42)
    df['Cluster'] = kmeans.fit_predict(X_imputed)

    return df

def plot_clustered_graph(df):
    plt.figure(figsize=(8, 6))
    sns.scatterplot(x='Overall GPA (%)', y='Number of Drinks', hue='Cluster', data=df, palette='viridis')
    plt.title('Clustering of GPA vs. Number of Drinks')
    plt.xlabel('Overall GPA (%)')
    plt.ylabel('Number of Drinks')
    plt.legend(title='Cluster')
    plt.show()
def perform_fitting(df):
    # Select relevant features for fitting
    X = df[['Overall GPA (%)']].copy()
    y = df['Number of Drinks']

    # Handle missing values in feature matrix (X) using imputation
    imputer_X = SimpleImputer(strategy='mean')
    X_imputed = imputer_X.fit_transform(X)

    # Handle missing values in target variable (y) using imputation
    imputer_y = SimpleImputer(strategy='mean')
    y_imputed = imputer_y.fit_transform(y.values.reshape(-1, 1)).ravel()

    # Fit LinearRegression model with imputed data
    model = LinearRegression()
    model.fit(X_imputed, y_imputed)

    # Predict using the fitted model
    df['Predicted Drinks'] = model.predict(X_imputed)

    return df

def plot_fitting_graph(df):
    plt.figure(figsize=(8, 6))
    sns.scatterplot(x='Overall GPA (%)', y='Number of Drinks', data=df)
    sns.lineplot(x='Overall GPA (%)', y='Predicted Drinks', data=df, color='red', label='Fitted Line')
    plt.title('Fitting of GPA vs. Number of Drinks')
    plt.xlabel('Overall GPA (%)')
    plt.ylabel('Number of Drinks')
    plt.legend()
    plt.show()
def explore_additional_relationships(df):
  # Explore GPA relationships
  plt.figure(figsize=(8, 6))
  sns.scatterplot(x='Overall GPA (%)', y='2023 Year GPA (%)', data=df)
  plt.title('Relationship between Overall GPA and 2023 Year GPA')
  plt.xlabel('Overall GPA (%)')
  plt.ylabel('2023 Year GPA (%)')
  plt.show()

  plt.figure(figsize=(8, 6))
  sns.boxplot(x='Overall GPA (%)', y='Failed Modules', data=df, showmeans=True)
  plt.title('Failed Modules by Overall GPA')
  plt.xlabel('Overall GPA (%)')
  plt.ylabel('Failed Modules')
  plt.show()

  # Explore Social Habits and GPA relationships
  plt.figure(figsize=(8, 6))
  sns.scatterplot(x='Overall GPA (%)', y='Socialising, Partying, Drinking', data=df)
  plt.title('Socializing Behavior vs. Overall GPA')
  plt.xlabel('Overall GPA (%)')
  plt.ylabel('Socialising, Partying, Drinking')
  plt.show()

  plt.figure(figsize=(8, 6))
  sns.boxplot(x='Failed Modules', y='Number of Drinks', data=df, showmeans=True)
  plt.title('Number of Drinks by Failed Modules')
  plt.xlabel('Failed Modules')
  plt.ylabel('Number of Drinks')
  plt.show()
# Perform data preprocessing and visualization
plot_relational_graph(df)
plot_categorical_graph(df)
plot_statistical_graph(df)

# Perform clustering
df_clustered = perform_clustering(df)
plot_clustered_graph(df_clustered)

# Perform fitting
df_fitted = perform_fitting(df)
plot_fitting_graph(df_fitted)
explore_additional_relationships(df)